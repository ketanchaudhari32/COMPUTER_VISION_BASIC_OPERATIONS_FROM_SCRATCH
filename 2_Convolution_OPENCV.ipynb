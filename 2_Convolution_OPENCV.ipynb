{
 "cells": [
  {
   "cell_type": "markdown",
   "id": "f594dc01",
   "metadata": {},
   "source": [
    "Convolution provides a way of multiplying two arrays to produce a third array. Depending on the designed\n",
    "filter and the intended effect, the kernel can be a matrix of dimensions, for example, 3x3, 5x5 or 7x7"
   ]
  },
  {
   "cell_type": "code",
   "execution_count": null,
   "id": "f7b62e2a",
   "metadata": {},
   "outputs": [],
   "source": [
    "import cv2\n",
    "import math\n",
    "import numpy as np\n",
    "import matplotlib.pyplot as plt\n",
    "import os"
   ]
  },
  {
   "cell_type": "markdown",
   "id": "8405cf6e",
   "metadata": {},
   "source": [
    "a) Code a function that takes an input image, performs convolution with a given kernel, and returns the\n",
    "resulting image."
   ]
  },
  {
   "cell_type": "code",
   "execution_count": null,
   "id": "46e9a192",
   "metadata": {},
   "outputs": [],
   "source": [
    "def ICV_convolution(image, kernel):\n",
    "    #getting image height, width and channels\n",
    "    original_img_height = image.shape[0]\n",
    "    original_img_width = image.shape[1]\n",
    "    original_img_channels = image.shape[2]\n",
    "    \n",
    "    #calulating kernel multiplication factor \n",
    "    kernel_h = kernel.shape[0]\n",
    "    kernel_w = kernel.shape[1]\n",
    "    \n",
    "    #creating empty image to store convolution output image \n",
    "    final_img = np.zeros([original_img_height - kernel_h//2 + 1,original_img_width - kernel_w//2 + 1,3],dtype=np.uint8)\n",
    "    \n",
    "    for i in range(0+(kernel_h//2), original_img_height-(kernel_h//2)): #iterating image height\n",
    "        for j in range(0+(kernel_w//2), original_img_width-(kernel_w//2)): #iterating image width\n",
    "            for k in range(original_img_channels): ##iterating image channels\n",
    "                #getting block of  image to be convoluted\n",
    "                if kernel_w>kernel_h:\n",
    "                    #if kernel width is greater than height\n",
    "                    conv_part = image[i-(kernel_h//2):i+(kernel_w//2),j-(kernel_h//2):j+(kernel_w//2)+1,k] \n",
    "                    \n",
    "                elif kernel_h>kernel_w:\n",
    "                    #if kernel height is greater than width\n",
    "                    conv_part = image[i-(kernel_h//2):i+(kernel_h//2),j-(kernel_w//2):j+(kernel_w//2)+1,k] \n",
    "                    \n",
    "                else:\n",
    "                    #if kernel is symmentric\n",
    "                    conv_part = image[i-(kernel_h//2):i+(kernel_h//2)+1,j-(kernel_w//2):j+(kernel_w//2)+1,k]\n",
    "                \n",
    "                #convolution operation\n",
    "                con_sum = np.sum(conv_part * kernel) // (kernel_h*kernel_w)\n",
    "                \n",
    "                #image clipping\n",
    "                if con_sum < 0:\n",
    "                    #avoid negative values for pixels\n",
    "                    final_img[i][j][k] = 0\n",
    "                elif con_sum > 255:\n",
    "                    #clipping values highter than 255\n",
    "                    final_img[i][j][k] = 255\n",
    "                else:\n",
    "                    final_img[i][j][k] = con_sum \n",
    "            \n",
    "    return final_img \n",
    "    \n",
    "    "
   ]
  },
  {
   "cell_type": "markdown",
   "id": "c39ded88",
   "metadata": {},
   "source": [
    "b) Design a convolution kernel that computes, for each pixel, the average intensity value in a 3x3 region.\n",
    "Use this kernel and the filtering function above, and save the resulting image. "
   ]
  },
  {
   "cell_type": "code",
   "execution_count": null,
   "id": "c31306d6",
   "metadata": {
    "scrolled": false
   },
   "outputs": [],
   "source": [
    "kernel = np.array([[1, 1, 1],   #average intensity kernel\n",
    "                  [1, 1, 1],\n",
    "                  [1, 1, 1]])\n",
    "\n",
    "conv_output_path =os.getcwd() + '\\\\convolution_output' #setting output image path\n",
    "if not os.path.isdir(conv_output_path):\n",
    "    os.mkdir(conv_output_path)\n",
    "\n",
    "images_path = os.getcwd()+'/DatasetA' #input image path\n",
    "for images in os.listdir(images_path): #parsing through all files in directory\n",
    "    if images[-3:]=='jpg': #checking if file is image or not\n",
    "        images_name = images_path + '/' + images #getting image name\n",
    "        img = cv2.imread(images_name) #reading image\n",
    "        convulated_image = ICV_convolution(img, kernel) #parsing image to convolution function\n",
    "    \n",
    "        plt.axis('off')\n",
    "        plt.imshow(img)\n",
    "        plt.title(images + ' original')\n",
    "        plt.savefig(conv_output_path+\"\\\\\"+images[:-3]+\"_original.jpg\")\n",
    "        plt.show()\n",
    "        plt.axis('off')\n",
    "        plt.imshow(convulated_image)\n",
    "        plt.title(images + ' convoluted_kernel_avgintensity')\n",
    "        plt.savefig(conv_output_path+\"\\\\\"+images[:-3]+\"_convoluted_kernel_avgintensity.jpg\")\n",
    "        plt.show()\n",
    "        "
   ]
  },
  {
   "cell_type": "markdown",
   "id": "c15d241b",
   "metadata": {},
   "source": [
    "c) Use the kernels provided below, apply the filtering function and save the resulting images. Comment\n",
    "on the effect of each kernel.<br>\n",
    "kernel A<br>\n",
    "1 2 1<br>\n",
    "2 4 2<br>\n",
    "1 2 1<br>\n",
    "kernel B<br>\n",
    "0 1 0<br>\n",
    "1 -4 1<br>\n",
    "0 1 0<br>\n"
   ]
  },
  {
   "cell_type": "code",
   "execution_count": null,
   "id": "a90af2ff",
   "metadata": {
    "scrolled": false
   },
   "outputs": [],
   "source": [
    "kernel_A = np.array([[1, 2, 1], #gaussian filter\n",
    "                  [2, 4, 2],\n",
    "                  [1, 2, 1]])\n",
    "\n",
    "kernel_B = np.array([[0, 1, 0], #Laplace filter\n",
    "                  [1, -4, 1],\n",
    "                  [0, 1, 0]])\n",
    "\n",
    "name_output_path =os.getcwd() + '\\\\convolution_output' #setting output image path\n",
    "if not os.path.isdir(name_output_path):\n",
    "    os.mkdir(name_output_path)\n",
    "\n",
    "images_path = os.getcwd()+'/DatasetA' #input image path\n",
    "for images in os.listdir(images_path): #parsing through all files in directory\n",
    "    if images[-3:]=='jpg': #checking if file is image or not\n",
    "        images_name = images_path + '/' + images #getting image name\n",
    "        img = cv2.imread(images_name) #reading image\n",
    "        \n",
    "        plt.axis('off')\n",
    "        plt.imshow(img)\n",
    "        plt.title('original')\n",
    "        plt.show()\n",
    "        \n",
    "        plt.axis('off')\n",
    "        plt.imshow(ICV_convolution(img, kernel_A))\n",
    "        plt.title(' kernel A')\n",
    "        plt.show()\n",
    "        \n",
    "        plt.axis('off')\n",
    "        plt.imshow(ICV_convolution(img, kernel_B))\n",
    "        plt.title(' kernel B')\n",
    "        plt.show()\n",
    "        "
   ]
  },
  {
   "cell_type": "markdown",
   "id": "7a4ade73",
   "metadata": {},
   "source": [
    "d) Use the filtering function for the following filtering operations: (i) A followed by A; (ii) A followed by B;\n",
    "(iii) B followed by A. Comment the results. "
   ]
  },
  {
   "cell_type": "code",
   "execution_count": null,
   "id": "be0d2c06",
   "metadata": {
    "scrolled": false
   },
   "outputs": [],
   "source": [
    "images_path = os.getcwd()+'/DatasetA' #input image path\n",
    "for images in os.listdir(images_path): #parsing through all files in directory\n",
    "    if images[-3:]=='jpg': #checking if file is image or not\n",
    "        images_name = images_path + '/' + images #getting image name\n",
    "        img = cv2.imread(images_name) #reading image\n",
    "        \n",
    "        img_kernel_A = ICV_convolution(img, kernel_A) #performing convolution wirh kernel A\n",
    "        img_kernel_A_A = ICV_convolution(img_kernel_A, kernel_A) #performing convolution wirh kernel A followed by kernel A\n",
    "        img_kernel_B = ICV_convolution(img, kernel_B) #performing convolution wirh kernel B\n",
    "        img_kernel_A_B = ICV_convolution(img_kernel_A, kernel_B) #performing convolution wirh kernel B followed by kernel B\n",
    "        img_kernel_B_A = ICV_convolution(img_kernel_B,kernel_A) #performing convolution wirh kernel B followed by kernel A\n",
    "        \n",
    "        plt.axis('off')\n",
    "        plt.imshow(img)\n",
    "        plt.title(images + ' original')\n",
    "        plt.show()\n",
    "        \n",
    "        plt.axis('off')\n",
    "        plt.imshow(img_kernel_A) #plotting kernel A output\n",
    "        plt.title(images+' kernel A')\n",
    "        plt.show()\n",
    "        \n",
    "        plt.axis('off')\n",
    "        plt.imshow(img_kernel_B) #plotting kernel A output\n",
    "        plt.title(images+' kernel B')\n",
    "        plt.show()\n",
    "        \n",
    "        plt.axis('off')\n",
    "        plt.imshow(img_kernel_A_A)\n",
    "        plt.title('A followed A')\n",
    "        plt.show()\n",
    "        \n",
    "        plt.axis('off')\n",
    "        plt.imshow(img_kernel_A_B)\n",
    "        plt.title('A followed B')\n",
    "        plt.show()\n",
    "        \n",
    "        plt.axis('off')\n",
    "        plt.imshow(img_kernel_B_A)\n",
    "        plt.title('B followed A')\n",
    "        plt.show()\n"
   ]
  },
  {
   "cell_type": "code",
   "execution_count": null,
   "id": "b5d8b765",
   "metadata": {},
   "outputs": [],
   "source": []
  },
  {
   "cell_type": "code",
   "execution_count": null,
   "id": "322cc8ef",
   "metadata": {},
   "outputs": [],
   "source": []
  },
  {
   "cell_type": "code",
   "execution_count": null,
   "id": "613a936c",
   "metadata": {},
   "outputs": [],
   "source": []
  }
 ],
 "metadata": {
  "kernelspec": {
   "display_name": "Python 3 (ipykernel)",
   "language": "python",
   "name": "python3"
  },
  "language_info": {
   "codemirror_mode": {
    "name": "ipython",
    "version": 3
   },
   "file_extension": ".py",
   "mimetype": "text/x-python",
   "name": "python",
   "nbconvert_exporter": "python",
   "pygments_lexer": "ipython3",
   "version": "3.8.12"
  }
 },
 "nbformat": 4,
 "nbformat_minor": 5
}
