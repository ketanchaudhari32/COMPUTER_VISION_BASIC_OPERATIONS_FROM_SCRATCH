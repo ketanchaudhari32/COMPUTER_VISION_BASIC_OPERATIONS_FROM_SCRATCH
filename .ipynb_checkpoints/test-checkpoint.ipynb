{
 "cells": [
  {
   "cell_type": "code",
   "execution_count": null,
   "id": "d64c62e8",
   "metadata": {},
   "outputs": [],
   "source": [
    "\n",
    "    '''\n",
    "    concated_hist = []\n",
    "    \n",
    "    grid_x = image.shape[0] // grid_x\n",
    "    grid_y = image.shape[1] // grid_y    \n",
    "    for i in range(0,image.shape[0],grid_x):\n",
    "        for j in range(0,image.shape[1],grid_y): \n",
    "            img_window = image[i:i+grid_x, j:j+grid_y]\n",
    "            window_hist, bins = ICV_greyscale_histogram(img_window)\n",
    "            #plt.plot(bins,window_hist,color='black')\n",
    "            #plt.show()\n",
    "            concated_hist.append(window_hist)\n",
    "    \n",
    "    concated_hist = np.array(concated_hist).ravel()\n",
    "    \n",
    "    plt.plot(range(0,len(concated_hist)),concated_hist, color='black')\n",
    "    plt.show()\n",
    "    \n",
    "    return concated_hist\n",
    "\n",
    "    '''"
   ]
  },
  {
   "cell_type": "code",
   "execution_count": 1,
   "id": "4680aa37",
   "metadata": {},
   "outputs": [
    {
     "ename": "NameError",
     "evalue": "name 'cv2' is not defined",
     "output_type": "error",
     "traceback": [
      "\u001b[1;31m---------------------------------------------------------------------------\u001b[0m",
      "\u001b[1;31mNameError\u001b[0m                                 Traceback (most recent call last)",
      "\u001b[1;32m<ipython-input-1-6921e5403c1d>\u001b[0m in \u001b[0;36m<module>\u001b[1;34m\u001b[0m\n\u001b[0;32m      1\u001b[0m \u001b[0mblock_size\u001b[0m \u001b[1;33m=\u001b[0m \u001b[1;36m40\u001b[0m\u001b[1;33m\u001b[0m\u001b[1;33m\u001b[0m\u001b[0m\n\u001b[0;32m      2\u001b[0m \u001b[1;33m\u001b[0m\u001b[0m\n\u001b[1;32m----> 3\u001b[1;33m \u001b[0mtrain_face_A\u001b[0m \u001b[1;33m=\u001b[0m \u001b[0mcv2\u001b[0m\u001b[1;33m.\u001b[0m\u001b[0mimread\u001b[0m\u001b[1;33m(\u001b[0m\u001b[1;34m'./DatasetA/face-1.jpg'\u001b[0m\u001b[1;33m)\u001b[0m\u001b[1;33m\u001b[0m\u001b[1;33m\u001b[0m\u001b[0m\n\u001b[0m\u001b[0;32m      4\u001b[0m \u001b[0mtrain_face_A\u001b[0m \u001b[1;33m=\u001b[0m \u001b[0mICV_greyscale\u001b[0m\u001b[1;33m(\u001b[0m\u001b[0mtrain_face_A\u001b[0m\u001b[1;33m)\u001b[0m\u001b[1;33m\u001b[0m\u001b[1;33m\u001b[0m\u001b[0m\n\u001b[0;32m      5\u001b[0m \u001b[1;33m\u001b[0m\u001b[0m\n",
      "\u001b[1;31mNameError\u001b[0m: name 'cv2' is not defined"
     ]
    }
   ],
   "source": [
    "block_size = 40\n",
    "\n",
    "train_face_A = cv2.imread('./DatasetA/face-1.jpg')\n",
    "train_face_A = ICV_greyscale(train_face_A)\n",
    "\n",
    "train_face_lsb_A,train_face_norm_hist_A = ICV_global_descriptor(train_face_A, block_size, show_hist = False)\n",
    "\n",
    "train_face_B = cv2.imread('./DatasetA/face-3.jpg')\n",
    "train_face_B = ICV_greyscale(train_face_B)\n",
    "\n",
    "train_face_lsb_B,train_face_norm_hist_B = ICV_global_descriptor(train_face_B, block_size, show_hist = False)\n",
    "\n",
    "\n",
    "\n",
    "\n",
    "ICV_histogram_intersection(train_face_norm_hist_A.ravel(), train_face_norm_hist_B.ravel())\n",
    "\n",
    "\n",
    "\n",
    "block_size = 40\n",
    "\n",
    "train_face_A = cv2.imread('./DatasetA/car-1.jpg')\n",
    "train_face_A = ICV_greyscale(train_face_A)\n",
    "\n",
    "train_face_lsb_A,train_face_norm_hist_A = ICV_global_descriptor(train_face_A, block_size, show_hist = False)\n",
    "\n",
    "train_face_B = cv2.imread('./DatasetA/car-2.jpg')\n",
    "train_face_B = ICV_greyscale(train_face_B)\n",
    "\n",
    "train_face_lsb_B,train_face_norm_hist_B = ICV_global_descriptor(train_face_B, block_size, show_hist = False)\n",
    "\n",
    "\n",
    "ICV_histogram_intersection(train_face_norm_hist_A.ravel(), train_face_norm_hist_B.ravel())"
   ]
  },
  {
   "cell_type": "code",
   "execution_count": null,
   "id": "2453eef5",
   "metadata": {},
   "outputs": [],
   "source": [
    "images_path = os.getcwd()+'/DatasetA' #input image path\n",
    "for images in os.listdir(images_path): #parsing through all files in directory\n",
    "    if images[-3:]=='jpg': #checking if file is image or not\n",
    "        images_name = images_path + '/' + images #getting image name\n",
    "        img = cv2.imread(images_name) #reading image\n",
    "        \n",
    "        img = ICV_greyscale(cv2.imread(images_name))\n",
    "\n",
    "        block_size = 2\n",
    "\n",
    "        feature_dis = ICV_feature_descriptor(img, block_size, False)\n",
    "\n",
    "        feature_disc_image = np.zeros((img.shape[0],img.shape[1]))\n",
    "\n",
    "        count = 0\n",
    "        for i in range(0,feature_disc_image.shape[0],block_size):\n",
    "            for j in range(0,feature_disc_image.shape[1],block_size): \n",
    "                feature_disc_image[i:i+block_size, j:j+block_size] = feature_dis[count]\n",
    "                count+=1\n",
    "                \n",
    "                \n",
    "        feature_disc_image_lsbh_B = ICV_local_binary_pattern_histogram(feature_disc_image, block_size, block_size)\n",
    "\n",
    "        threshold = ICV_histogram_intersection(train_face_lsbh_A, feature_disc_image_lsbh_B)\n",
    "        print(threshold)\n",
    "            \n",
    "        \n",
    "        plt.axis('off')\n",
    "        plt.imshow(img,cmap='gray')\n",
    "        plt.title(images + ' original window_size = '+str(block_size))\n",
    "        plt.savefig(text_output_path+\"\\\\\"+images[:-3]+\"_original.jpg\")\n",
    "        plt.show()\n",
    "        plt.axis('off')\n",
    "        plt.imshow(feature_disc_image,cmap='gray')\n",
    "        plt.title(images + ' LBP')\n",
    "        plt.savefig(text_output_path+\"\\\\\"+images[:-3]+\"_LBP_windowsize\"+str(block_size)+\".jpg\")\n",
    "        plt.show()"
   ]
  }
 ],
 "metadata": {
  "kernelspec": {
   "display_name": "Python 3",
   "language": "python",
   "name": "python3"
  },
  "language_info": {
   "codemirror_mode": {
    "name": "ipython",
    "version": 3
   },
   "file_extension": ".py",
   "mimetype": "text/x-python",
   "name": "python",
   "nbconvert_exporter": "python",
   "pygments_lexer": "ipython3",
   "version": "3.8.8"
  }
 },
 "nbformat": 4,
 "nbformat_minor": 5
}
