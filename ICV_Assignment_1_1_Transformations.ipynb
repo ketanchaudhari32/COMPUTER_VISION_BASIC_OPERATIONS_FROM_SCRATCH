{
 "cells": [
  {
   "cell_type": "markdown",
   "id": "318ce752",
   "metadata": {},
   "source": [
    "Rotation, translation and skew are useful operations for matching, tracking, and data augmentation."
   ]
  },
  {
   "cell_type": "code",
   "execution_count": 1,
   "id": "e14ec167",
   "metadata": {},
   "outputs": [],
   "source": [
    "import cv2\n",
    "import math\n",
    "import numpy as np\n",
    "import matplotlib.pyplot as plt\n",
    "import matplotlib.image as mpimg"
   ]
  },
  {
   "cell_type": "markdown",
   "id": "e01a6f28",
   "metadata": {},
   "source": [
    "a) Write a function that takes as input an image I, rotates it by an angle θ1 and horizontally skews it by\n",
    "an angle, θ2. Write the matrix formulation for image rotation R(.) and skewing S(.). Define all the\n",
    "variables. Note that the origin of the coordinate system of the programming environment you use\n",
    "might be different from the one shown in the lectures"
   ]
  },
  {
   "cell_type": "code",
   "execution_count": 2,
   "id": "5c56fae2",
   "metadata": {},
   "outputs": [],
   "source": [
    "#Function for image rotation and skewing\n",
    "def ICV_rotation_skewing(img, rotation_angle, skewing_angle):\n",
    "    #getting image height and width\n",
    "    original_img_height = img.shape[0]\n",
    "    original_img_width = img.shape[1]\n",
    "    \n",
    "    #converting angle from degree to radians to make it possible to relate to linear measure and angle measures\n",
    "    rotation_angle = math.radians(rotation_angle)\n",
    "    skewing_angle = math.radians(skewing_angle)\n",
    "    \n",
    "    #finding centre of original image to perform rotation and skewing w.r.t to centre\n",
    "    original_centre_height = original_img_height//2\n",
    "    original_centre_width = original_img_width//2\n",
    "    \n",
    "    \n",
    "    #creating empty image to store rotated image dimensions same as original image\n",
    "    rotated_img = np.zeros([original_img_height,original_img_width,3],dtype=np.uint8)\n",
    "    \n",
    "    #creating empty image to store store final rotated and skewed image dimensions same as original image\n",
    "    final_img = np.zeros([original_img_height,original_img_width,3],dtype=np.uint8)\n",
    "    \n",
    "    ###ROTATION CODE\n",
    "    \n",
    "    #Iteration over every pixel in original image\n",
    "    for i in range(original_img_height):\n",
    "        for j in range(original_img_width):\n",
    "            \n",
    "            #input matrix\n",
    "            multiple_matrix = np.array([original_img_height-i-original_centre_height,original_img_width-j-original_centre_width])\n",
    "            \n",
    "            #centre co-ordinates matrix for making operation wrt to centre\n",
    "            #centre_coordinate_matrix = np.array([-original_centre_height,-original_centre_width])\n",
    "            \n",
    "            #clockwise rotation matrix \n",
    "            function_matrix = np.array([[math.cos(rotation_angle), math.sin(rotation_angle)],   \n",
    "                                        [-math.sin(rotation_angle), math.cos(rotation_angle)]])\n",
    "            \n",
    "            #perfroming rotation\n",
    "            new_cordinates = function_matrix @ multiple_matrix #- centre_coordinate_matrix\n",
    "            new_x = int(new_cordinates[0])\n",
    "            new_y = int(new_cordinates[1])\n",
    "        \n",
    "            #Adjusting co-ordinates with respect to centre\n",
    "            new_x = int(abs( original_centre_height - new_x))\n",
    "            new_y = int(abs( original_centre_width - new_y))\n",
    "            \n",
    "            #To avoid index out of bound error updating co-ordinates\n",
    "            try:\n",
    "                #updating new co-ordinates\n",
    "                rotated_img[new_x, new_y, :] = img[i,j,:]\n",
    "            except:\n",
    "                pass\n",
    "            \n",
    "            \n",
    "            \n",
    "    ###Skewing code\n",
    "\n",
    "    #Iteration over every pixel in original image\n",
    "    for i in range(original_img_height):\n",
    "        for j in range(original_img_width):\n",
    "            \n",
    "            #input matrix\n",
    "            multiple_matrix = np.array([i,j])\n",
    "            \n",
    "            #skewing matrix\n",
    "            skewing_matrix = np.array([[1, math.tan(skewing_angle/2)],\n",
    "                                     [0, 1]])\n",
    "            \n",
    "            \n",
    "            #performing skewing\n",
    "            new_cordinates = skewing_matrix @ multiple_matrix \n",
    "            new_x = int(new_cordinates[0])\n",
    "            new_y = int(new_cordinates[1])\n",
    "        \n",
    "            \n",
    "            #To avoid index out of bound error updating co-ordinates\n",
    "            try:\n",
    "                #updating new co-ordinates\n",
    "                final_img[new_x, new_y, :] = rotated_img[i,j,:]\n",
    "            except:\n",
    "                pass\n",
    "            \n",
    "           \n",
    "    return final_img #returning transformed image\n",
    "            \n",
    "    \n",
    "    "
   ]
  },
  {
   "cell_type": "markdown",
   "id": "77ed736c",
   "metadata": {},
   "source": [
    "b) Create an image that contains your name written in Arial, point 72, capital letters. Rotate clockwise\n",
    "the image you created by 30, 60, 120 and -50 degrees. Skew the same image by 10, 40 and 60\n",
    "degrees. Complete the process so that all the pixels have a value. Discuss in the report the\n",
    "advantages and disadvantages of different approaches"
   ]
  },
  {
   "cell_type": "code",
   "execution_count": 3,
   "id": "1947d55e",
   "metadata": {},
   "outputs": [
    {
     "data": {
      "image/png": "[encoded data removed]",
      "text/plain": [
       "<Figure size 432x288 with 1 Axes>"
      ]
     },
     "metadata": {
      "needs_background": "light"
     },
     "output_type": "display_data"
    },
    {
     "data": {
      "image/png": "[encoded data removed]",
      "text/plain": [
       "<Figure size 432x288 with 1 Axes>"
      ]
     },
     "metadata": {
      "needs_background": "light"
     },
     "output_type": "display_data"
    },
    {
     "data": {
      "image/png": "[encoded data removed]",
      "text/plain": [
       "<Figure size 432x288 with 1 Axes>"
      ]
     },
     "metadata": {
      "needs_background": "light"
     },
     "output_type": "display_data"
    },
    {
     "data": {
      "image/png": "[encoded data removed]",
      "text/plain": [
       "<Figure size 432x288 with 1 Axes>"
      ]
     },
     "metadata": {
      "needs_background": "light"
     },
     "output_type": "display_data"
    },
    {
     "data": {
      "image/png": "[encoded data removed]",
      "text/plain": [
       "<Figure size 432x288 with 1 Axes>"
      ]
     },
     "metadata": {
      "needs_background": "light"
     },
     "output_type": "display_data"
    },
    {
     "data": {
      "image/png": "[encoded data removed]",
      "text/plain": [
       "<Figure size 432x288 with 1 Axes>"
      ]
     },
     "metadata": {
      "needs_background": "light"
     },
     "output_type": "display_data"
    },
    {
     "data": {
      "image/png": "[encoded data removed]",
      "text/plain": [
       "<Figure size 432x288 with 1 Axes>"
      ]
     },
     "metadata": {
      "needs_background": "light"
     },
     "output_type": "display_data"
    },
    {
     "data": {
      "image/png": "[encoded data removed]",
      "text/plain": [
       "<Figure size 432x288 with 1 Axes>"
      ]
     },
     "metadata": {
      "needs_background": "light"
     },
     "output_type": "display_data"
    }
   ],
   "source": [
    "#creating empty image containing name\n",
    "#name_image = cv2.imread('ques_1.jpg')\n",
    "#name_image = np.zeros([1000,1000,3],dtype=np.uint8)\n",
    "name_image = np.zeros([1000,1000,3],dtype=np.uint8)\n",
    "\n",
    "# fontScale\n",
    "fontScale = 1\n",
    "\n",
    "#font type\n",
    "font = cv2.FONT_HERSHEY_SIMPLEX\n",
    "   \n",
    "# Red color in RGB\n",
    "color = (255, 0, 0)\n",
    "  \n",
    "# Line thickness of 2 px\n",
    "thickness = 2\n",
    "   \n",
    "# Using cv2.putText() method\n",
    "name_image = cv2.putText(name_image, 'KETAN', (200,300), font, fontScale, color, thickness, cv2.LINE_AA)\n",
    "\n",
    "# showing original image\n",
    "plt.imshow(name_image)\n",
    "plt.axis('off')\n",
    "plt.title(\"original image\")\n",
    "plt.show()\n",
    "\n",
    "for i in [30, 60, 120, -50]: #angle of rotation\n",
    "    rotated_skewed_img = ICV_rotation_skewing(name_image, i, 0) #calling rotation and skewing function\n",
    "    img_name_string = \"image rotated:\"+str(i) #creating outpur string\n",
    "        \n",
    "    # showing Transformed image\n",
    "    plt.imshow(rotated_skewed_img)\n",
    "    plt.axis('off')\n",
    "    plt.title(img_name_string)\n",
    "    plt.show(block=False)\n",
    "        \n",
    "for j in [10, 40, 60]: #angle of skewing\n",
    "    rotated_skewed_img = ICV_rotation_skewing(name_image, 0, j) #calling rotation and skewing function\n",
    "    img_name_string = \"image  skewed:\"+str(j) #creating outpur string\n",
    "        \n",
    "    # showing Transformed image\n",
    "    plt.imshow(rotated_skewed_img)\n",
    "    plt.axis('off')\n",
    "    plt.title(img_name_string)\n",
    "    plt.show(block=False)\n"
   ]
  },
  {
   "cell_type": "markdown",
   "id": "08fa14f5",
   "metadata": {},
   "source": [
    "c) Analyse the results when you change the order of the two operators: R(S(I)) and S(R(I)).\n",
    "i) Rotate the image by θ1 = 20 clockwise and then skew the result by θ2 = 50.\n",
    "ii) Skew the image by θ2 = 50 and then rotate the result by θ1 = 20 clockwise.\n",
    "Are the results of (i) and (ii) the same? Why?"
   ]
  },
  {
   "cell_type": "code",
   "execution_count": 34,
   "id": "0c4c3dcc",
   "metadata": {},
   "outputs": [
    {
     "data": {
      "image/png": "[encoded data removed]",
      "text/plain": [
       "<Figure size 432x288 with 1 Axes>"
      ]
     },
     "metadata": {
      "needs_background": "light"
     },
     "output_type": "display_data"
    },
    {
     "data": {
      "image/png": "[encoded data removed]",
      "text/plain": [
       "<Figure size 432x288 with 1 Axes>"
      ]
     },
     "metadata": {
      "needs_background": "light"
     },
     "output_type": "display_data"
    }
   ],
   "source": [
    "#1\n",
    "#rotating image by 20 degree clockwise and skewing 50 degree\n",
    "rotated_skewed_img = ICV_rotation_skewing(ICV_rotation_skewing(name_image, 20,0), 0, 50) #calling rotation and skewing function\n",
    "img_name_string = \"image rotated:20 skewed:50\" #creating outpur string\n",
    "plt.imshow(rotated_skewed_img)\n",
    "plt.axis('off')\n",
    "plt.title(img_name_string)\n",
    "plt.show()\n",
    "\n",
    "\n",
    "#2\n",
    "#skewing image by 20 degree and rotating 50 degree\n",
    "rotated_skewed_img = ICV_rotation_skewing(ICV_rotation_skewing(name_image, 0, 20), 50, 0) #calling rotation and skewing function\n",
    "img_name_string = \"image skewed:20 rotated:50\" #creating output string\n",
    "plt.imshow(rotated_skewed_img)\n",
    "plt.axis('off')\n",
    "plt.title(img_name_string)\n",
    "plt.show()"
   ]
  },
  {
   "cell_type": "code",
   "execution_count": null,
   "id": "4daf5c6e",
   "metadata": {},
   "outputs": [],
   "source": []
  },
  {
   "cell_type": "code",
   "execution_count": null,
   "id": "98ccec60",
   "metadata": {},
   "outputs": [],
   "source": []
  },
  {
   "cell_type": "code",
   "execution_count": null,
   "id": "94c2b003",
   "metadata": {},
   "outputs": [],
   "source": []
  },
  {
   "cell_type": "code",
   "execution_count": null,
   "id": "c3c256cb",
   "metadata": {},
   "outputs": [],
   "source": []
  }
 ],
 "metadata": {
  "kernelspec": {
   "display_name": "Python 3",
   "language": "python",
   "name": "python3"
  },
  "language_info": {
   "codemirror_mode": {
    "name": "ipython",
    "version": 3
   },
   "file_extension": ".py",
   "mimetype": "text/x-python",
   "name": "python",
   "nbconvert_exporter": "python",
   "pygments_lexer": "ipython3",
   "version": "3.8.8"
  }
 },
 "nbformat": 4,
 "nbformat_minor": 5
}
