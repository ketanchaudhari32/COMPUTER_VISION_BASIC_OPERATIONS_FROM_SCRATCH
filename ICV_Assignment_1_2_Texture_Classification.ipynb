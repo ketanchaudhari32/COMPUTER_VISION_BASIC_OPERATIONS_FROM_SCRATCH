{
 "cells": [
  {
   "cell_type": "markdown",
   "id": "f1944486",
   "metadata": {},
   "source": [
    "The Local Binary Pattern (LBP) operator describes the surroundings of a pixel by generating a bit-code from the binary derivatives of a pixel."
   ]
  },
  {
   "cell_type": "code",
   "execution_count": null,
   "id": "c7db87de",
   "metadata": {},
   "outputs": [],
   "source": [
    "import cv2\n",
    "import math\n",
    "import numpy as np\n",
    "import matplotlib.pyplot as plt\n",
    "import matplotlib.image as mpimg\n",
    "import os"
   ]
  },
  {
   "cell_type": "markdown",
   "id": "3be07119",
   "metadata": {},
   "source": [
    "a) Write a function that divides a greyscale image into equally sized non-overlapping windows and returns the feature descriptor for each window as distribution of LBP codes. For each pixel in the window, compare the pixel to each of its 8 neighbours. Convert the resulting bit-codes (base 2) to decimals (base 10 numbers) and compute their histogram over the window. Normalize the histogram (which is now a feature descriptor representing the window). Show in the report the resulting images."
   ]
  },
  {
   "cell_type": "markdown",
   "id": "9ade8bbd",
   "metadata": {},
   "source": [
    "b) Come up with a descriptor that represents the whole image as consisting of multiple windows. For example, you could combine several local descriptions into a global description by concatenation. Discuss in the report alternative approaches. Using the global descriptor you created, implement a classification process that separates the images in the dataset into two categories: face images and non-face images (for example, you could use histogram similarities). Comment the results in the report. Is the global descriptor able to represent whole images of different types (e.g. faces vs. cars)? Identify problems (if any), discuss them in the report and suggest possible solutions."
   ]
  },
  {
   "cell_type": "markdown",
   "id": "5c7f2a01",
   "metadata": {},
   "source": [
    "c) Decrease the window size and perform classification again. Comment the results in the report."
   ]
  },
  {
   "cell_type": "markdown",
   "id": "37895be8",
   "metadata": {},
   "source": [
    "d) Increase the window size and perform classification again. Comment the results in the report."
   ]
  },
  {
   "cell_type": "markdown",
   "id": "d0c58c4a",
   "metadata": {},
   "source": [
    "e) Discuss how LBP can be used or modified for the analysis of dynamic textures in a video."
   ]
  },
  {
   "cell_type": "code",
   "execution_count": null,
   "id": "be00ee0c",
   "metadata": {},
   "outputs": [],
   "source": []
  }
 ],
 "metadata": {
  "kernelspec": {
   "display_name": "Python 3",
   "language": "python",
   "name": "python3"
  },
  "language_info": {
   "codemirror_mode": {
    "name": "ipython",
    "version": 3
   },
   "file_extension": ".py",
   "mimetype": "text/x-python",
   "name": "python",
   "nbconvert_exporter": "python",
   "pygments_lexer": "ipython3",
   "version": "3.8.8"
  }
 },
 "nbformat": 4,
 "nbformat_minor": 5
}
